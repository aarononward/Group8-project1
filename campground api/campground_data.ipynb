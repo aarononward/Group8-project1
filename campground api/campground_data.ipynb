{
 "cells": [
  {
   "cell_type": "code",
   "execution_count": 59,
   "metadata": {},
   "outputs": [],
   "source": [
    "from xml.etree import ElementTree as ET\n",
    "import requests\n",
    "from config import api_key\n",
    "import pandas as pd\n",
    "import json\n",
    "import xmltodict\n",
    "\n",
    "#def api_call(self,):\n",
    "\n",
    "    \n",
    "state = 'CA'\n",
    "base_url = \"http://api.amp.active.com/camping/campgrounds/?\" \n",
    "#parameters = {'api_key' : api_key,\n",
    "#                  'state' : state}\n",
    "    \n",
    "    \n",
    "    #state_list = ['AL','AK','AZ','CA','CO','CT','DE','FL','GA','HI','ID','IL','IN','IA','KS','KY','LA','ME','MD','MA','MI','MN','MS','MO','MT','NE','NV','NH','NJ','NM',\n",
    "    #         'NY','NC','ND','MP','OH','OK','OR','PA','RI','SC','SD','TN','TX','UT','VT','VA','WA','WV','WI','WY']\n",
    "\n",
    "query_url = f'{base_url}pstate={state}&api_key={api_key}'\n",
    "\n",
    "r = requests.get(query_url)\n",
    "xml_data = r.content\n",
    "tree = ET.XML(xml_data)\n",
    "\n",
    "with open('campgrounds.xml', 'wb') as f:\n",
    "    f.write(ET.tostring(tree))\n",
    "\n",
    "with open('campgrounds.xml') as xml_file:\n",
    "    data_dict = xmltodict.parse(xml_file.read())\n",
    "    json_data = json.dumps(data_dict)\n",
    "    with open(\"campgrounds.json\", \"w\") as json_file:\n",
    "        json_file.write(json_data)\n",
    "\n",
    "results = pd.read_json('./campgrounds.json')\n",
    "campground_df = pd.DataFrame(results['resultset']['result'])\n",
    "\n",
    "campground_df.head()\n",
    "\n",
    "\n"
   ]
  },
  {
   "cell_type": "code",
   "execution_count": null,
   "metadata": {},
   "outputs": [],
   "source": []
  },
  {
   "cell_type": "code",
   "execution_count": null,
   "metadata": {},
   "outputs": [],
   "source": []
  }
 ],
 "metadata": {
  "kernelspec": {
   "display_name": "dev",
   "language": "python",
   "name": "python3"
  },
  "language_info": {
   "codemirror_mode": {
    "name": "ipython",
    "version": 3
   },
   "file_extension": ".py",
   "mimetype": "text/x-python",
   "name": "python",
   "nbconvert_exporter": "python",
   "pygments_lexer": "ipython3",
   "version": "3.10.11"
  },
  "orig_nbformat": 4
 },
 "nbformat": 4,
 "nbformat_minor": 2
}
