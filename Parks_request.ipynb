{
 "cells": [
  {
   "cell_type": "markdown",
   "metadata": {},
   "source": [
    "project 1 - discovery"
   ]
  },
  {
   "cell_type": "code",
   "execution_count": 4,
   "metadata": {
    "scrolled": true
   },
   "outputs": [],
   "source": [
    "# Dependencies and Setup\n",
    "import matplotlib.pyplot as plt\n",
    "import pandas as pd\n",
    "import numpy as np\n",
    "import requests\n",
    "import time\n",
    "from scipy.stats import linregress\n",
    "from pprint import pprint\n",
    "\n",
    "# Import citipy to determine the cities based on latitude and longitude\n",
    "from citipy import citipy"
   ]
  },
  {
   "cell_type": "code",
   "execution_count": 5,
   "metadata": {},
   "outputs": [
    {
     "name": "stdout",
     "output_type": "stream",
     "text": [
      "{'data': [{'activities': [{'id': '09DF0950-D319-4557-A57E-04CD2F63FF42',\n",
      "                           'name': 'Arts and Culture'},\n",
      "                          {'id': 'FAED7F97-3474-4C21-AB42-FB0768A2F826',\n",
      "                           'name': 'Cultural Demonstrations'},\n",
      "                          {'id': '13A57703-BB1A-41A2-94B8-53B692EB7238',\n",
      "                           'name': 'Astronomy'},\n",
      "                          {'id': 'D37A0003-8317-4F04-8FB0-4CF0A272E195',\n",
      "                           'name': 'Stargazing'},\n",
      "                          {'id': '7CE6E935-F839-4FEC-A63E-052B1DEF39D2',\n",
      "                           'name': 'Biking'},\n",
      "                          {'id': '071BA73C-1D3C-46D4-A53C-00D5602F7F0E',\n",
      "                           'name': 'Boating'},\n",
      "                          {'id': 'A59947B7-3376-49B4-AD02-C0423E08C5F7',\n",
      "                           'name': 'Camping'},\n",
      "                          {'id': '7CFF5F03-5ECC-4F5A-8572-75D1F0976C0C',\n",
      "                           'name': 'Group Camping'},\n",
      "                          {'id': 'B12FAAB9-713F-4B38-83E4-A273F5A43C77',\n",
      "                           'name': 'Climbing'},\n",
      "                          {'id': '87D3B1CD-3903-4561-ABB1-2DD870C43F2F',\n",
      "                           'name': 'Rock Climbing'},\n",
      "                          {'id': 'C11D3746-5063-4BD0-B245-7178D1AD866C',\n",
      "                           'name': 'Compass and GPS'},\n",
      "                          {'id': 'CA3641A0-FADC-497F-B036-3FE426D0DDCC',\n",
      "                           'name': 'Geocaching'},\n",
      "                          {'id': 'AE42B46C-E4B7-4889-A122-08FE180371AE',\n",
      "                           'name': 'Fishing'},\n",
      "                          {'id': '25FB188F-5AAD-459A-9092-28A9801709FF',\n",
      "                           'name': 'Freshwater Fishing'},\n",
      "                          {'id': '9BC03FAF-28F1-4609-BF6F-643F58071AED',\n",
      "                           'name': 'Fly Fishing'},\n",
      "                          {'id': '17411C8D-5769-4D0F-ABD1-52ED03840C18',\n",
      "                           'name': 'Saltwater Fishing'},\n",
      "                          {'id': '1DFACD97-1B9C-4F5A-80F2-05593604799E',\n",
      "                           'name': 'Food'},\n",
      "                          {'id': 'C6D3230A-2CEA-4AFE-BFF3-DC1E2C2C4BB4',\n",
      "                           'name': 'Picnicking'},\n",
      "                          {'id': 'B33DC9B6-0B7D-4322-BAD7-A13A34C584A3',\n",
      "                           'name': 'Guided Tours'},\n",
      "                          {'id': '3DE599E2-22ED-40BF-B383-EDA073563C1E',\n",
      "                           'name': 'Bus/Shuttle Guided Tour'},\n",
      "                          {'id': '5A241412-0CFB-497A-9B5F-0AB8C03CDE72',\n",
      "                           'name': 'Boat Tour'},\n",
      "                          {'id': '42FD78B9-2B90-4AA9-BC43-F10E9FEA8B5A',\n",
      "                           'name': 'Hands-On'},\n",
      "                          {'id': '31F88DA6-696F-441F-89CF-D7B1415C4CB9',\n",
      "                           'name': 'Citizen Science'},\n",
      "                          {'id': 'BFF8C027-7C8F-480B-A5F8-CD8CE490BFBA',\n",
      "                           'name': 'Hiking'},\n",
      "                          {'id': '45261C0A-00D8-4C27-A1F8-029F933A0D34',\n",
      "                           'name': 'Front-Country Hiking'},\n",
      "                          {'id': '0307955A-B65C-4CE4-A780-EB36BAAADF0B',\n",
      "                           'name': 'Horse Trekking'},\n",
      "                          {'id': '1886DA47-0AEC-4568-B9C2-8E9BC316AAAC',\n",
      "                           'name': 'Horseback Riding'},\n",
      "                          {'id': '5FF5B286-E9C3-430E-B612-3380D8138600',\n",
      "                           'name': 'Ice Skating'},\n",
      "                          {'id': '4D224BCA-C127-408B-AC75-A51563C42411',\n",
      "                           'name': 'Paddling'},\n",
      "                          {'id': '21DB3AFC-8AAC-4665-BC1F-7198C0685983',\n",
      "                           'name': 'Canoeing'},\n",
      "                          {'id': 'F353A9ED-4A08-456E-8DEC-E61974D0FEB6',\n",
      "                           'name': 'Kayaking'},\n",
      "                          {'id': 'B3EF12AF-D951-419E-BD3C-6B36CBCC1E16',\n",
      "                           'name': 'Stand Up Paddleboarding'},\n",
      "                          {'id': 'DF4A35E0-7983-4A3E-BC47-F37B872B0F25',\n",
      "                           'name': 'Junior Ranger Program'},\n",
      "                          {'id': 'F9B1D433-6B86-4804-AED7-B50A519A3B7C',\n",
      "                           'name': 'Skiing'},\n",
      "                          {'id': 'EAB1EBDE-5B72-493F-8F8F-0EE5B1724436',\n",
      "                           'name': 'Cross-Country Skiing'},\n",
      "                          {'id': 'C38B3C62-1BBF-4EA1-A1A2-35DE21B74C17',\n",
      "                           'name': 'Snow Play'},\n",
      "                          {'id': '7C912B83-1B1B-4807-9B66-97C12211E48E',\n",
      "                           'name': 'Snowmobiling'},\n",
      "                          {'id': '01D717BC-18BB-4FE4-95BA-6B13AD702038',\n",
      "                           'name': 'Snowshoeing'},\n",
      "                          {'id': '587BB2D3-EC35-41B2-B3F7-A39E2B088AEE',\n",
      "                           'name': 'Swimming'},\n",
      "                          {'id': '82C3230F-6F87-452C-A01B-F8458867B26A',\n",
      "                           'name': 'Freshwater Swimming'},\n",
      "                          {'id': 'C2801992-F34D-4974-A0F2-80FF04309EE4',\n",
      "                           'name': 'Saltwater Swimming'},\n",
      "                          {'id': '0B685688-3405-4E2A-ABBA-E3069492EC50',\n",
      "                           'name': 'Wildlife Watching'},\n",
      "                          {'id': '5A2C91D1-50EC-4B24-8BED-A2E11A1892DF',\n",
      "                           'name': 'Birdwatching'},\n",
      "                          {'id': '0C0D142F-06B5-4BE1-8B44-491B90F93DEB',\n",
      "                           'name': 'Park Film'},\n",
      "                          {'id': '24380E3F-AD9D-4E38-BF13-C8EEB21893E7',\n",
      "                           'name': 'Shopping'},\n",
      "                          {'id': '467DC8B8-0B7D-436D-A026-80A22358F615',\n",
      "                           'name': 'Bookstore and Park Store'}],\n",
      "           'addresses': [{'city': 'Bar Harbor',\n",
      "                          'line1': '25 Visitor Center Road',\n",
      "                          'line2': 'Hulls Cove Visitor Center',\n",
      "                          'line3': '',\n",
      "                          'postalCode': '04609',\n",
      "                          'stateCode': 'ME',\n",
      "                          'type': 'Physical'},\n",
      "                         {'city': 'Bar Harbor',\n",
      "                          'line1': 'PO Box 177',\n",
      "                          'line2': '',\n",
      "                          'line3': '',\n",
      "                          'postalCode': '04609',\n",
      "                          'stateCode': 'ME',\n",
      "                          'type': 'Mailing'}],\n",
      "           'contacts': {'emailAddresses': [{'description': '',\n",
      "                                            'emailAddress': 'acadia_information@nps.gov'}],\n",
      "                        'phoneNumbers': [{'description': '',\n",
      "                                          'extension': '',\n",
      "                                          'phoneNumber': '2072883338',\n",
      "                                          'type': 'Voice'},\n",
      "                                         {'description': '',\n",
      "                                          'extension': '',\n",
      "                                          'phoneNumber': '2072888813',\n",
      "                                          'type': 'Fax'},\n",
      "                                         {'description': '',\n",
      "                                          'extension': '',\n",
      "                                          'phoneNumber': '2072888800',\n",
      "                                          'type': 'TTY'}]},\n",
      "           'description': 'Acadia National Park protects the natural beauty of '\n",
      "                          'the highest rocky headlands along the Atlantic '\n",
      "                          'coastline of the United States, an abundance of '\n",
      "                          'habitats, and a rich cultural heritage. At 4 '\n",
      "                          \"million visits a year, it's one of the top 10 \"\n",
      "                          'most-visited national parks in the United States. '\n",
      "                          'Visitors enjoy 27 miles of historic motor roads, '\n",
      "                          '158 miles of hiking trails, and 45 miles of '\n",
      "                          'carriage roads.',\n",
      "           'designation': 'National Park',\n",
      "           'directionsInfo': 'From Boston take I-95 north to Augusta, Maine, '\n",
      "                             'then Route 3 east to Ellsworth, and on to Mount '\n",
      "                             'Desert Island. For an alternate route, continue '\n",
      "                             'on I-95 north to Bangor, Maine, then take I-395 '\n",
      "                             'to U.S. Route 1A east to Ellsworth. In '\n",
      "                             'Ellsworth, take Route 3 to Mount Desert Island.',\n",
      "           'directionsUrl': 'http://www.nps.gov/acad/planyourvisit/directions.htm',\n",
      "           'entranceFees': [{'cost': '6.00',\n",
      "                             'description': 'Vehicle reservations are not '\n",
      "                                            'required for any other areas of '\n",
      "                                            'the park, or for visitors who '\n",
      "                                            'enter the area by foot, bike, or '\n",
      "                                            'taxi. Vehicle reservations '\n",
      "                                            'provide a timed entry, but do not '\n",
      "                                            'require a departure time until 10 '\n",
      "                                            'pm, when the road closes to '\n",
      "                                            'vehicles. Reservations do not '\n",
      "                                            'permit re-entry. Reservations are '\n",
      "                                            'per vehicle, not per person. '\n",
      "                                            'Reservations do not assign a '\n",
      "                                            'specific parking space. Parking '\n",
      "                                            'is prohibited outside of '\n",
      "                                            'designated spaces. Cadillac is '\n",
      "                                            'not served by the Island Explorer '\n",
      "                                            'bus system.',\n",
      "                             'title': 'Timed Entry Reservation - Location'},\n",
      "                            {'cost': '35.00',\n",
      "                             'description': 'Valid for seven days. Admits '\n",
      "                                            'private, non-commercial vehicle '\n",
      "                                            '(15 passenger capacity or less) '\n",
      "                                            'and all occupants. This includes '\n",
      "                                            'rental cars, RVs, and vans with '\n",
      "                                            'fewer than 16 passengers. If the '\n",
      "                                            'vehicle pass is purchased, no '\n",
      "                                            'other pass is necessary.',\n",
      "                             'title': 'Entrance - Private Vehicle'},\n",
      "                            {'cost': '30.00',\n",
      "                             'description': 'Valid for seven days. Admits one '\n",
      "                                            'or two passengers on a private, '\n",
      "                                            'non-commercial motorcycle.',\n",
      "                             'title': 'Entrance - Motorcycle'},\n",
      "                            {'cost': '20.00',\n",
      "                             'description': 'Valid for seven days. Admits one '\n",
      "                                            'individual with no car '\n",
      "                                            '(bicyclist, hiker, pedestrian). '\n",
      "                                            'Youth 15 and under are admitted '\n",
      "                                            'free of charge.',\n",
      "                             'title': 'Entrance - Per Person'},\n",
      "                            {'cost': '0.00',\n",
      "                             'description': 'School groups and other academic '\n",
      "                                            'institutions may qualify for an '\n",
      "                                            'Educational Fee Waiver. If not '\n",
      "                                            'qualified, please check fees for '\n",
      "                                            'large or commercial groups.',\n",
      "                             'title': 'Entrance - Education/Academic Groups'},\n",
      "                            {'cost': '0.00',\n",
      "                             'description': 'Groups entering Acadia by bus, '\n",
      "                                            'van, or other high-capacity '\n",
      "                                            'vehicles (16 people or more) must '\n",
      "                                            'pay an organized group entrance '\n",
      "                                            'fee.\\n'\n",
      "                                            '\\n'\n",
      "                                            'Adults (16 years old and over): '\n",
      "                                            '$20/per person\\n'\n",
      "                                            'Youth (15 years old and under): '\n",
      "                                            'Free',\n",
      "                             'title': 'Entrance - Non-commercial Groups'},\n",
      "                            {'cost': '0.00',\n",
      "                             'description': 'Are you operating a business that '\n",
      "                                            'provides leisure or recreational '\n",
      "                                            'services while in the park? If '\n",
      "                                            'so, it is considered a commercial '\n",
      "                                            'group and you are required to '\n",
      "                                            'have a Commercial Use '\n",
      "                                            'Authorization.\\n'\n",
      "                                            '\\n'\n",
      "                                            'A commercial group is defined as '\n",
      "                                            'consisting of one or more persons '\n",
      "                                            'traveling on an itinerary that '\n",
      "                                            'has been packaged, priced, or '\n",
      "                                            'sold for leisure or recreational '\n",
      "                                            'purposes by an organization that '\n",
      "                                            'realizes financial gain through '\n",
      "                                            'the provisions of the service. '\n",
      "                                            'Learn more on our \"Do Business '\n",
      "                                            'With Us\" page.',\n",
      "                             'title': 'Commercial Entrance - Per Person'}],\n",
      "           'entrancePasses': [{'cost': '70.00',\n",
      "                               'description': 'The Acadia Annual Pass is valid '\n",
      "                                              'only at Acadia and may be '\n",
      "                                              'purchased online or in person. '\n",
      "                                              'You do not need an additional '\n",
      "                                              'entrance pass if you already '\n",
      "                                              'have a federal lands pass. It '\n",
      "                                              'is valid for 12 months from '\n",
      "                                              'purchase month. This pass '\n",
      "                                              'admits the pass holder and '\n",
      "                                              'passengers in a non-commercial '\n",
      "                                              'vehicle.\\n'\n",
      "                                              '\\n'\n",
      "                                              'In addition to park visitor '\n",
      "                                              'centers and campgrounds, the '\n",
      "                                              'Acadia Annual Pass is available '\n",
      "                                              'at the Acadia Regional Chamber '\n",
      "                                              'at Thompson Island, and at Bar '\n",
      "                                              'Harbor, Ellsworth and Southwest '\n",
      "                                              'Harbor chambers of commerce.',\n",
      "                               'title': 'Annual Entrance - Park'}],\n",
      "           'fees': [],\n",
      "           'fullName': 'Acadia National Park',\n",
      "           'id': '6DA17C86-088E-4B4D-B862-7C1BD5CF236B',\n",
      "           'images': [{'altText': 'Large puffy clouds dot a brilliant blue sky '\n",
      "                                  'as wave crash against the rocky coastline '\n",
      "                                  'of Acadia.',\n",
      "                       'caption': 'Millions of people come to Acadia for our '\n",
      "                                  'distinctive rocky coastline.',\n",
      "                       'credit': 'NPS / Kristi Rugg',\n",
      "                       'title': \"Acadia's rocky coastline\",\n",
      "                       'url': 'https://www.nps.gov/common/uploads/structured_data/3C7B45AE-1DD8-B71B-0B7EE131C7DFC2F5.jpg'},\n",
      "                      {'altText': 'Hiking tracks carved through three feet of '\n",
      "                                  'snow wind through a heavy snow-laden '\n",
      "                                  'forest.',\n",
      "                       'caption': 'During the colder months snows transform '\n",
      "                                  'our landscape into a winter wonderland.',\n",
      "                       'credit': 'NPS / Kristi Rugg',\n",
      "                       'title': 'Heavy snow-laden trees',\n",
      "                       'url': 'https://www.nps.gov/common/uploads/structured_data/3C7B4BEC-1DD8-B71B-0B2CF833F93140FF.jpg'},\n",
      "                      {'altText': 'A brilliant sunset filled with hues of '\n",
      "                                  'blue, red, orange, magenta, and purple '\n",
      "                                  'highlight the sky.',\n",
      "                       'caption': 'As the tallest point on the eastern '\n",
      "                                  'seaboard Cadillac Mountain provides '\n",
      "                                  'fantastic viewpoints.',\n",
      "                       'credit': 'NPS / Kristi Rugg',\n",
      "                       'title': 'Sunset atop Cadillac Mountain',\n",
      "                       'url': 'https://www.nps.gov/common/uploads/structured_data/3C7B477B-1DD8-B71B-0BCB48E009241BAA.jpg'},\n",
      "                      {'altText': 'Two hikers ascend a sheer cliff trail by '\n",
      "                                  'way of historic iron rung ladders.',\n",
      "                       'caption': \"Whether it's a stroll along Ocean Path or a \"\n",
      "                                  'difficult ascent up The Precipice, there '\n",
      "                                  'are hiking trails for everyone!',\n",
      "                       'credit': 'NPS / Kristi Rugg',\n",
      "                       'title': 'Climbing The Precipice',\n",
      "                       'url': 'https://www.nps.gov/common/uploads/structured_data/3C7B48F9-1DD8-B71B-0BD3B413E58978F8.jpg'}],\n",
      "           'latLong': 'lat:44.409286, long:-68.247501',\n",
      "           'latitude': '44.409286',\n",
      "           'longitude': '-68.247501',\n",
      "           'name': 'Acadia',\n",
      "           'operatingHours': [{'description': 'Acadia National Park is open '\n",
      "                                              'year-round. Check our website '\n",
      "                                              'for park facilities operating '\n",
      "                                              'hours, such as Hulls Cove '\n",
      "                                              'Visitor Center.',\n",
      "                               'exceptions': [],\n",
      "                               'name': 'Acadia National Park',\n",
      "                               'standardHours': {'friday': 'All Day',\n",
      "                                                 'monday': 'All Day',\n",
      "                                                 'saturday': 'All Day',\n",
      "                                                 'sunday': 'All Day',\n",
      "                                                 'thursday': 'All Day',\n",
      "                                                 'tuesday': 'All Day',\n",
      "                                                 'wednesday': 'All Day'}}],\n",
      "           'parkCode': 'acad',\n",
      "           'states': 'ME',\n",
      "           'topics': [{'id': '00F3C3F9-2D67-4802-81AE-CCEA5D3BA370',\n",
      "                       'name': 'Arts'},\n",
      "                      {'id': '05B7868A-3F3C-433D-876E-A886C4BE7A12',\n",
      "                       'name': 'Painting'},\n",
      "                      {'id': '9BD60DC0-C82B-42BA-A170-456B7423429D',\n",
      "                       'name': 'Photography'},\n",
      "                      {'id': '156AD9B6-B377-418C-BC9A-F6E682D4BAF7',\n",
      "                       'name': 'Poetry and Literature'},\n",
      "                      {'id': '0DE2D6B3-46DE-44B1-BB5F-E9E8874630D5',\n",
      "                       'name': 'Sculpture'},\n",
      "                      {'id': '7F12224B-217A-4B07-A4A2-636B1CE7F221',\n",
      "                       'name': 'Colonization and Settlement'},\n",
      "                      {'id': '4C9D4777-A9DA-47D1-A0B9-F4A3C98BC1B3',\n",
      "                       'name': 'Maritime'},\n",
      "                      {'id': '263BAC6E-4DEC-47E4-909D-DA8AD351E06E',\n",
      "                       'name': 'Lighthouses'},\n",
      "                      {'id': 'BEB7E470-13B2-4E00-84B2-0402D98DAF69',\n",
      "                       'name': 'Monuments and Memorials'},\n",
      "                      {'id': '3CDB67A9-1EAC-408D-88EC-F26FA35E90AF',\n",
      "                       'name': 'Schools and Education'},\n",
      "                      {'id': 'FE2C2613-B41E-4531-BC43-03EB6E45CBCF',\n",
      "                       'name': 'Transportation'},\n",
      "                      {'id': '1015393C-D7B0-47F3-86FB-786F30368CA2',\n",
      "                       'name': 'Bridges'},\n",
      "                      {'id': '0BBD4A42-2B3D-4E82-B5C4-1A3874C8682E',\n",
      "                       'name': 'Roads, Routes and Highways'},\n",
      "                      {'id': 'A160B3D9-1603-4D89-B82F-21FCAF9EEE3B',\n",
      "                       'name': 'Tragic Events'},\n",
      "                      {'id': 'C373F02B-7335-4F8A-A3ED-3E2E37CD4085',\n",
      "                       'name': 'Catastrophic Fires'},\n",
      "                      {'id': '7DA81DAB-5045-4953-9C20-36590AD9FA95',\n",
      "                       'name': \"Women's History\"},\n",
      "                      {'id': '0D00073E-18C3-46E5-8727-2F87B112DDC6',\n",
      "                       'name': 'Animals'},\n",
      "                      {'id': '957EF2BD-AC6C-4B7B-BD9A-87593ADC6691',\n",
      "                       'name': 'Birds'},\n",
      "                      {'id': '1608649A-E7D7-4529-BD83-074C90F9FB68',\n",
      "                       'name': 'Fish'},\n",
      "                      {'id': '4DC11D06-00F1-4A01-81D0-89CCCCE4FF50',\n",
      "                       'name': 'Climate Change'},\n",
      "                      {'id': '04A39AB8-DD02-432F-AE5F-BA1267D41A0D',\n",
      "                       'name': 'Fire'},\n",
      "                      {'id': '41B1A0A3-11FF-4F55-9CB9-034A7E28B087',\n",
      "                       'name': 'Forests and Woodlands'},\n",
      "                      {'id': 'F0F97E32-2F29-41B4-AF98-9FBE8DAB36B1',\n",
      "                       'name': 'Geology'},\n",
      "                      {'id': '1CF1F6BB-A037-445B-8CF2-81428E50CE52',\n",
      "                       'name': 'Lakes'},\n",
      "                      {'id': '101F4D51-F99D-45A6-BBB6-CD481E5FACED',\n",
      "                       'name': 'Mountains'},\n",
      "                      {'id': 'A7359FC4-DAD8-45F5-AF15-7FF62F816ED3',\n",
      "                       'name': 'Night Sky'},\n",
      "                      {'id': 'E06F3C94-AC8A-4B1C-A247-8EBA8910D5EE',\n",
      "                       'name': 'Astronomy'},\n",
      "                      {'id': '0E6D8503-CB65-467F-BCD6-C6D9E28A4E0B',\n",
      "                       'name': 'Oceans'},\n",
      "                      {'id': '4244F489-6813-4B7A-9D0C-20CE098C8FFF',\n",
      "                       'name': 'Rock Landscapes and Features'},\n",
      "                      {'id': '5BE55D7F-BDB6-4E3D-AC35-2D8EBB974417',\n",
      "                       'name': 'Trails'},\n",
      "                      {'id': '1365C347-952C-475A-B755-731DD523C195',\n",
      "                       'name': 'Wetlands'}],\n",
      "           'url': 'https://www.nps.gov/acad/index.htm',\n",
      "           'weatherInfo': 'Located on Mount Desert Island in Maine, Acadia '\n",
      "                          'experiences all four seasons. Summer temperatures '\n",
      "                          'range from 45-90F (7-30C). Fall temperatures range '\n",
      "                          'from 30-70F (-1-21C). Typically the first frost is '\n",
      "                          'in mid-October and first snowfall begins in '\n",
      "                          'November and can continue through April with an '\n",
      "                          'average accumulation of 73 inches (185 cm). Winter '\n",
      "                          'temperatures range from 14-35F (-10 - 2C). Spring '\n",
      "                          'temperatures range from 30-70F (-1-21C).'}],\n",
      " 'limit': '50',\n",
      " 'start': '0',\n",
      " 'total': '1'}\n"
     ]
    }
   ],
   "source": [
    "request_url = f\"https://developer.nps.gov/api/v1/parks?parkCode=acad&api_key=GvSZdwcTCMcieLr0PvUbj7zioLdpJToW7kNGUwZs\"\n",
    "\n",
    "parks_request = requests.get(request_url).json()\n",
    "pprint(parks_request)\n"
   ]
  },
  {
   "cell_type": "markdown",
   "metadata": {},
   "source": [
    "---"
   ]
  },
  {
   "cell_type": "code",
   "execution_count": null,
   "metadata": {},
   "outputs": [],
   "source": [
    "# Set the API base URL\n",
    "url = # YOUR CODE HERE\n",
    "\n",
    "# Define an empty list to fetch the weather data for each city\n",
    "city_data = []\n",
    "\n",
    "# Print to logger\n",
    "print(\"Beginning Data Retrieval     \")\n",
    "print(\"-----------------------------\")\n",
    "\n",
    "# Create counters\n",
    "record_count = 1\n",
    "set_count = 1\n",
    "\n",
    "# Loop through all the cities in our list to fetch weather data\n",
    "for i, city in enumerate(cities):\n",
    "        \n",
    "    # Group cities in sets of 50 for logging purposes\n",
    "    if (i % 50 == 0 and i >= 50):\n",
    "        set_count += 1\n",
    "        record_count = 0\n",
    "\n",
    "    # Create endpoint URL with each city\n",
    "    city_url = # YOUR CODE HERE\n",
    "    \n",
    "    # Log the url, record, and set numbers\n",
    "    print(\"Processing Record %s of Set %s | %s\" % (record_count, set_count, city))\n",
    "\n",
    "    # Add 1 to the record count\n",
    "    record_count += 1\n",
    "\n",
    "    # Run an API request for each of the cities\n",
    "    try:\n",
    "        # Parse the JSON and retrieve data\n",
    "        city_weather = # YOUR CODE HERE\n",
    "\n",
    "        # Parse out latitude, longitude, max temp, humidity, cloudiness, wind speed, country, and date\n",
    "        city_lat = # YOUR CODE HERE\n",
    "        city_lng = # YOUR CODE HERE\n",
    "        city_max_temp = # YOUR CODE HERE\n",
    "        city_humidity = # YOUR CODE HERE\n",
    "        city_clouds = # YOUR CODE HERE\n",
    "        city_wind = # YOUR CODE HERE\n",
    "        city_country = # YOUR CODE HERE\n",
    "        city_date = # YOUR CODE HERE\n",
    "\n",
    "        # Append the City information into city_data list\n",
    "        city_data.append({\"City\": city, \n",
    "                          \"Lat\": city_lat, \n",
    "                          \"Lng\": city_lng, \n",
    "                          \"Max Temp\": city_max_temp,\n",
    "                          \"Humidity\": city_humidity,\n",
    "                          \"Cloudiness\": city_clouds,\n",
    "                          \"Wind Speed\": city_wind,\n",
    "                          \"Country\": city_country,\n",
    "                          \"Date\": city_date})\n",
    "\n",
    "    # If an error is experienced, skip the city\n",
    "    except:\n",
    "        print(\"City not found. Skipping...\")\n",
    "        pass\n",
    "              \n",
    "# Indicate that Data Loading is complete \n",
    "print(\"-----------------------------\")\n",
    "print(\"Data Retrieval Complete      \")\n",
    "print(\"-----------------------------\")"
   ]
  },
  {
   "cell_type": "code",
   "execution_count": null,
   "metadata": {},
   "outputs": [],
   "source": [
    "# Convert the cities weather data into a Pandas DataFrame\n",
    "city_data_df = # YOUR CODE HERE\n",
    "\n",
    "# Show Record Count\n",
    "city_data_df.count()"
   ]
  },
  {
   "cell_type": "code",
   "execution_count": null,
   "metadata": {},
   "outputs": [],
   "source": [
    "# Display sample data\n",
    "city_data_df.head()"
   ]
  },
  {
   "cell_type": "code",
   "execution_count": null,
   "metadata": {},
   "outputs": [],
   "source": [
    "# Export the City_Data into a csv\n",
    "city_data_df.to_csv(\"output_data/cities.csv\", index_label=\"City_ID\")"
   ]
  },
  {
   "cell_type": "code",
   "execution_count": null,
   "metadata": {},
   "outputs": [],
   "source": [
    "# Read saved data\n",
    "city_data_df = pd.read_csv(\"output_data/cities.csv\", index_col=\"City_ID\")\n",
    "\n",
    "# Display sample data\n",
    "city_data_df.head()"
   ]
  },
  {
   "cell_type": "markdown",
   "metadata": {},
   "source": [
    "### Create the Scatter Plots Requested\n",
    "\n",
    "#### Latitude Vs. Temperature"
   ]
  },
  {
   "cell_type": "code",
   "execution_count": null,
   "metadata": {
    "tags": []
   },
   "outputs": [],
   "source": [
    "# Build scatter plot for latitude vs. temperature\n",
    "# YOUR CODE HERE\n",
    "\n",
    "# Incorporate the other graph properties\n",
    "# YOUR CODE HERE\n",
    "\n",
    "# Save the figure\n",
    "plt.savefig(\"output_data/Fig1.png\")\n",
    "\n",
    "# Show plot\n",
    "plt.show()"
   ]
  },
  {
   "cell_type": "markdown",
   "metadata": {},
   "source": [
    "#### Latitude Vs. Humidity"
   ]
  },
  {
   "cell_type": "code",
   "execution_count": null,
   "metadata": {},
   "outputs": [],
   "source": [
    "# Build the scatter plots for latitude vs. humidity\n",
    "# YOUR CODE HERE\n",
    "\n",
    "# Incorporate the other graph properties\n",
    "# YOUR CODE HERE\n",
    "\n",
    "# Save the figure\n",
    "plt.savefig(\"output_data/Fig2.png\")\n",
    "\n",
    "# Show plot\n",
    "plt.show()"
   ]
  },
  {
   "cell_type": "markdown",
   "metadata": {},
   "source": [
    "#### Latitude Vs. Cloudiness"
   ]
  },
  {
   "cell_type": "code",
   "execution_count": null,
   "metadata": {},
   "outputs": [],
   "source": [
    "# Build the scatter plots for latitude vs. cloudiness\n",
    "# YOUR CODE HERE\n",
    "\n",
    "# Incorporate the other graph properties\n",
    "# YOUR CODE HERE\n",
    "\n",
    "# Save the figure\n",
    "plt.savefig(\"output_data/Fig3.png\")\n",
    "\n",
    "# Show plot\n",
    "plt.show()"
   ]
  },
  {
   "cell_type": "markdown",
   "metadata": {},
   "source": [
    "#### Latitude vs. Wind Speed Plot"
   ]
  },
  {
   "cell_type": "code",
   "execution_count": null,
   "metadata": {},
   "outputs": [],
   "source": [
    "# Build the scatter plots for latitude vs. wind speed\n",
    "# YOUR CODE HERE\n",
    "\n",
    "# Incorporate the other graph properties\n",
    "# YOUR CODE HERE\n",
    "\n",
    "# Save the figure\n",
    "plt.savefig(\"output_data/Fig4.png\")\n",
    "\n",
    "# Show plot\n",
    "plt.show()"
   ]
  },
  {
   "cell_type": "markdown",
   "metadata": {},
   "source": [
    "---\n",
    "\n",
    "## Requirement 2: Compute Linear Regression for Each Relationship\n"
   ]
  },
  {
   "cell_type": "code",
   "execution_count": null,
   "metadata": {},
   "outputs": [],
   "source": [
    "# Define a function to create Linear Regression plots\n",
    "# YOUR CODE HERE"
   ]
  },
  {
   "cell_type": "code",
   "execution_count": null,
   "metadata": {},
   "outputs": [],
   "source": [
    "# Create a DataFrame with the Northern Hemisphere data (Latitude >= 0)\n",
    "# YOUR CODE HERE\n",
    "\n",
    "# Display sample data\n",
    "northern_hemi_df.head()"
   ]
  },
  {
   "cell_type": "code",
   "execution_count": null,
   "metadata": {},
   "outputs": [],
   "source": [
    "# Create a DataFrame with the Southern Hemisphere data (Latitude < 0)\n",
    "# YOUR CODE HERE\n",
    "\n",
    "# Display sample data\n",
    "southern_hemi_df.head()"
   ]
  },
  {
   "cell_type": "markdown",
   "metadata": {},
   "source": [
    "###  Temperature vs. Latitude Linear Regression Plot"
   ]
  },
  {
   "cell_type": "code",
   "execution_count": null,
   "metadata": {},
   "outputs": [],
   "source": [
    "# Linear regression on Northern Hemisphere\n",
    "# YOUR CODE HERE"
   ]
  },
  {
   "cell_type": "code",
   "execution_count": null,
   "metadata": {},
   "outputs": [],
   "source": [
    "# Linear regression on Southern Hemisphere\n",
    "# YOUR CODE HERE"
   ]
  },
  {
   "cell_type": "markdown",
   "metadata": {},
   "source": [
    "**Discussion about the linear relationship:** YOUR RESPONSE HERE"
   ]
  },
  {
   "cell_type": "markdown",
   "metadata": {},
   "source": [
    "### Humidity vs. Latitude Linear Regression Plot"
   ]
  },
  {
   "cell_type": "code",
   "execution_count": null,
   "metadata": {},
   "outputs": [],
   "source": [
    "# Northern Hemisphere\n",
    "# YOUR CODE HERE"
   ]
  },
  {
   "cell_type": "code",
   "execution_count": null,
   "metadata": {},
   "outputs": [],
   "source": [
    "# Southern Hemisphere\n",
    "# YOUR CODE HERE"
   ]
  },
  {
   "cell_type": "markdown",
   "metadata": {},
   "source": [
    "**Discussion about the linear relationship:** YOUR RESPONSE HERE"
   ]
  },
  {
   "cell_type": "markdown",
   "metadata": {},
   "source": [
    "### Cloudiness vs. Latitude Linear Regression Plot"
   ]
  },
  {
   "cell_type": "code",
   "execution_count": null,
   "metadata": {},
   "outputs": [],
   "source": [
    "# Northern Hemisphere\n",
    "# YOUR CODE HERE"
   ]
  },
  {
   "cell_type": "code",
   "execution_count": null,
   "metadata": {},
   "outputs": [],
   "source": [
    "# Southern Hemisphere\n",
    "# YOUR CODE HERE"
   ]
  },
  {
   "cell_type": "markdown",
   "metadata": {},
   "source": [
    "**Discussion about the linear relationship:** YOUR RESPONSE HERE"
   ]
  },
  {
   "cell_type": "markdown",
   "metadata": {},
   "source": [
    "### Wind Speed vs. Latitude Linear Regression Plot"
   ]
  },
  {
   "cell_type": "code",
   "execution_count": null,
   "metadata": {},
   "outputs": [],
   "source": [
    "# Northern Hemisphere\n",
    "# YOUR CODE HERE"
   ]
  },
  {
   "cell_type": "code",
   "execution_count": null,
   "metadata": {},
   "outputs": [],
   "source": [
    "# Southern Hemisphere\n",
    "# YOUR CODE HERE"
   ]
  },
  {
   "cell_type": "markdown",
   "metadata": {},
   "source": [
    "**Discussion about the linear relationship:** YOUR RESPONSE HERE"
   ]
  },
  {
   "cell_type": "code",
   "execution_count": null,
   "metadata": {},
   "outputs": [],
   "source": []
  }
 ],
 "metadata": {
  "anaconda-cloud": {},
  "kernel_info": {
   "name": "python3"
  },
  "kernelspec": {
   "display_name": "Python 3 (ipykernel)",
   "language": "python",
   "name": "python3"
  },
  "language_info": {
   "codemirror_mode": {
    "name": "ipython",
    "version": 3
   },
   "file_extension": ".py",
   "mimetype": "text/x-python",
   "name": "python",
   "nbconvert_exporter": "python",
   "pygments_lexer": "ipython3",
   "version": "3.10.11"
  },
  "latex_envs": {
   "LaTeX_envs_menu_present": true,
   "autoclose": false,
   "autocomplete": true,
   "bibliofile": "biblio.bib",
   "cite_by": "apalike",
   "current_citInitial": 1,
   "eqLabelWithNumbers": true,
   "eqNumInitial": 1,
   "hotkeys": {
    "equation": "Ctrl-E",
    "itemize": "Ctrl-I"
   },
   "labels_anchors": false,
   "latex_user_defs": false,
   "report_style_numbering": false,
   "user_envs_cfg": false
  },
  "nteract": {
   "version": "0.12.3"
  }
 },
 "nbformat": 4,
 "nbformat_minor": 4
}
