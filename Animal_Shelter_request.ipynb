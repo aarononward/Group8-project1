{
 "cells": [
  {
   "cell_type": "markdown",
   "metadata": {},
   "source": [
    "project 1 - discovery"
   ]
  },
  {
   "cell_type": "code",
   "execution_count": null,
   "metadata": {
    "scrolled": true
   },
   "outputs": [],
   "source": [
    "# Dependencies and Setup\n",
    "import matplotlib.pyplot as plt\n",
    "import pandas as pd\n",
    "import numpy as np\n",
    "import requests\n",
    "from scipy.stats import linregress\n",
    "from pprint import pprint\n",
    "from sodapy import Socrata\n"
   ]
  },
  {
   "cell_type": "code",
   "execution_count": null,
   "metadata": {},
   "outputs": [],
   "source": [
    "# Authenticated client request\n",
    "request_url = Socrata(\"data.sonomacounty.ca.gov\", \"svXzQDyVcEYVmqw6LDWsmj7VP\",\n",
    "                 username=\"rondajoy@gmail.com\", password=\"Flwrchild75\", timeout=500)\n",
    "\n",
    "# return as JSON from API then converted to Python list of dictionaries by sodapy\n",
    "results = request_url.get(\"924a-vesw\", limit=26000)\n",
    "\n",
    "# Convert to pandas DataFrame\n",
    "results_df = pd.DataFrame(results)\n",
    "results_df.info()\n"
   ]
  },
  {
   "cell_type": "markdown",
   "metadata": {},
   "source": [
    "---"
   ]
  },
  {
   "cell_type": "code",
   "execution_count": null,
   "metadata": {},
   "outputs": [],
   "source": [
    "# delete unnecessary column\n",
    "del results_df[':@computed_region_dig5_f3vy']\n",
    "del results_df['intake_total']\n",
    "del results_df['kennel_number']\n",
    "\n",
    "# transform data type for all date columns\n",
    "shelter_df['date_of_birth'] = pd.to_datetime(shelter_df.date_of_birth)\n",
    "results_df['intake_date'] = pd.to_datetime(results_df.intake_date)\n",
    "results_df['outcome_date'] = pd.to_datetime(results_df.outcome_date)\n",
    "\n",
    "# Create date features for grouping\n",
    "results_df['yr_intake']=results_df.intake_date.dt.year\n",
    "results_df['mon_intake']=results_df.intake_date.dt.month\n",
    "\n",
    "results_df['yr_outcome']=results_df.outcome_date.dt.year\n",
    "results_df['mon_outcome']=results_df.outcome_date.dt.month\n",
    "\n",
    "# Check for outliers via groupby year\n",
    "results_df['yr_intake'].unique()\n",
    "results_df.groupby('yr_intake').count()\n"
   ]
  },
  {
   "cell_type": "code",
   "execution_count": null,
   "metadata": {},
   "outputs": [],
   "source": [
    "# Incomplete data for year(s) 2013 & 2023. Drop all data for those years.\n",
    "results_df = results_df[(results_df['yr_intake']>2013) & (results_df['yr_intake']<2023)]\n",
    "\n",
    "# Analysis will be heavily dependant upon \"outcome type\" so filter data to eliminate blank records.\n",
    "# Filter out blank values by creating a new dataframe.\n",
    "shelter_df = results_df.dropna(subset=['outcome_type']).copy()\n",
    "\n",
    "# Replace missing values with either \"missing\" or \"0\" if numerical\n",
    "shelter_df['name'].fillna('MISSING',inplace=True)\n",
    "shelter_df['size'].fillna('MISSING',inplace=True)\n",
    "\n",
    "# Verify successful\n",
    "shelter_df.info()"
   ]
  },
  {
   "cell_type": "code",
   "execution_count": null,
   "metadata": {},
   "outputs": [],
   "source": [
    "# Determine age on intake date\n",
    "# Calculate difference between \"intake_date\" and \"date_of_birth\"\n",
    "age_delta = shelter_df[\"intake_date\"] - shelter_df[\"date_of_birth\"]\n",
    "\n",
    "# Convert value to numeric year(s)\n",
    "age_yrs = age_delta/np.timedelta64(1, 'Y')\n",
    "\n",
    "# Extract the number of complete months and remaining (partial) months\n",
    "age_yrs = age_yrs.round(2)\n",
    "\n",
    "shelter_df[\"Age at Intake (years)\"] = age_yrs\n",
    "shelter_df.to_csv(\"SoCoShelter.csv\", index=False)"
   ]
  },
  {
   "cell_type": "code",
   "execution_count": null,
   "metadata": {},
   "outputs": [],
   "source": [
    "\n"
   ]
  },
  {
   "cell_type": "code",
   "execution_count": null,
   "metadata": {},
   "outputs": [],
   "source": []
  },
  {
   "cell_type": "code",
   "execution_count": null,
   "metadata": {
    "tags": []
   },
   "outputs": [],
   "source": []
  },
  {
   "cell_type": "code",
   "execution_count": null,
   "metadata": {},
   "outputs": [],
   "source": []
  },
  {
   "cell_type": "code",
   "execution_count": null,
   "metadata": {},
   "outputs": [],
   "source": []
  },
  {
   "cell_type": "code",
   "execution_count": null,
   "metadata": {},
   "outputs": [],
   "source": []
  },
  {
   "cell_type": "code",
   "execution_count": null,
   "metadata": {},
   "outputs": [],
   "source": []
  },
  {
   "cell_type": "code",
   "execution_count": null,
   "metadata": {},
   "outputs": [],
   "source": []
  },
  {
   "cell_type": "code",
   "execution_count": null,
   "metadata": {},
   "outputs": [],
   "source": []
  }
 ],
 "metadata": {
  "anaconda-cloud": {},
  "kernel_info": {
   "name": "python3"
  },
  "kernelspec": {
   "display_name": "Python 3 (ipykernel)",
   "language": "python",
   "name": "python3"
  },
  "language_info": {
   "codemirror_mode": {
    "name": "ipython",
    "version": 3
   },
   "file_extension": ".py",
   "mimetype": "text/x-python",
   "name": "python",
   "nbconvert_exporter": "python",
   "pygments_lexer": "ipython3",
   "version": "3.10.11"
  },
  "latex_envs": {
   "LaTeX_envs_menu_present": true,
   "autoclose": false,
   "autocomplete": true,
   "bibliofile": "biblio.bib",
   "cite_by": "apalike",
   "current_citInitial": 1,
   "eqLabelWithNumbers": true,
   "eqNumInitial": 1,
   "hotkeys": {
    "equation": "Ctrl-E",
    "itemize": "Ctrl-I"
   },
   "labels_anchors": false,
   "latex_user_defs": false,
   "report_style_numbering": false,
   "user_envs_cfg": false
  },
  "nteract": {
   "version": "0.12.3"
  }
 },
 "nbformat": 4,
 "nbformat_minor": 4
}
